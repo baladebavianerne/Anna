{
 "cells": [
  {
   "cell_type": "markdown",
   "metadata": {},
   "source": [
    "Initialize. Call the commandoes:"
   ]
  },
  {
   "cell_type": "code",
   "execution_count": 1,
   "metadata": {},
   "outputs": [],
   "source": [
    "# Initialization\n",
    "import matplotlib.pyplot as plt\n",
    "import numpy as np\n",
    "import pandas as pd\n",
    "from scipy.integrate import quad\n",
    "import math\n",
    "from math import exp, expm1\n",
    "from dataclasses import dataclass"
   ]
  },
  {
   "cell_type": "code",
   "execution_count": 2,
   "metadata": {},
   "outputs": [],
   "source": [
    "class BatchComponent:\n",
    "    def __init__(self, Name, Flow, Concentration):\n",
    "        self.Name = Name\n",
    "        self.Flow = Flow\n",
    "        self.Concentration = Concentration\n",
    "\n",
    "componentA = BatchComponent(\"Component A\", 100, 2)\n",
    "#componentB = BatchComponent(\"Component B\", 90, 3) \n",
    "\n",
    "class BatchReaction:\n",
    "    def __init__(self, Reaction, Conversion, Rate):\n",
    "        self.Reaction = Reaction\n",
    "        self.Conversion = Conversion\n",
    "        self.Rate = Rate\n",
    "        \n",
    "Reaction = BatchReaction(\"Reaction 1\", 0.9, 1.5)"
   ]
  },
  {
   "cell_type": "code",
   "execution_count": 3,
   "metadata": {},
   "outputs": [],
   "source": [
    "# The reaction is: A -> B + A_out"
   ]
  },
  {
   "cell_type": "code",
   "execution_count": 4,
   "metadata": {},
   "outputs": [],
   "source": [
    "# Constants definitions\n",
    "#The time for the inflow is now defined. This specifies for how long the streams will go into the mixer.\n",
    "#The unit is in hours. For this example the simulation will run for 10 h\n",
    "T_inflow = 10"
   ]
  },
  {
   "cell_type": "code",
   "execution_count": 5,
   "metadata": {},
   "outputs": [],
   "source": [
    "# Variable definition\n",
    "#The time is now made as an interval going from 1 to the T_inflow value \n",
    "time = np.arange(1,T_inflow)"
   ]
  },
  {
   "cell_type": "code",
   "execution_count": 6,
   "metadata": {},
   "outputs": [],
   "source": [
    "# Volume calculations \n",
    "# The volume going into the batch reactor is V = sum(flow)*t \n",
    "V_in = componentA.Flow*time\n",
    "\n",
    "#The constant volume after loading time is\n",
    "V_reactor = componentA.Flow*T_inflow"
   ]
  },
  {
   "cell_type": "code",
   "execution_count": 7,
   "metadata": {},
   "outputs": [
    {
     "name": "stdout",
     "output_type": "stream",
     "text": [
      "The concentration of A is 0.19999999999999996, and B is 1.8\n"
     ]
    }
   ],
   "source": [
    "#The concentrations of A and B are now calculated after the reaction\n",
    "\n",
    "A_concentration = componentA.Concentration*(1-Reaction.Conversion)\n",
    "\n",
    "B_concentration = componentA.Concentration*Reaction.Conversion\n",
    "\n",
    "# The values of the concentrations are:\n",
    "print('The concentration of A is ' + repr(A_concentration) + ', and B is ' + repr(B_concentration))"
   ]
  },
  {
   "cell_type": "code",
   "execution_count": 8,
   "metadata": {},
   "outputs": [
    {
     "name": "stdout",
     "output_type": "stream",
     "text": [
      "1.535056728662702\n"
     ]
    }
   ],
   "source": [
    "#The mixing time for the reaction is now calculated for a first order reaction \n",
    "def integrand(X):\n",
    "    return componentA.Concentration/(Reaction.Rate*(1-X)*componentA.Concentration)\n",
    "t_react, err = quad(integrand, 0, Reaction.Conversion)\n",
    "print(t_react)"
   ]
  },
  {
   "cell_type": "code",
   "execution_count": 9,
   "metadata": {},
   "outputs": [],
   "source": [
    "# Reaction time as an array\n",
    "t_reaction = np.arange(0.001, t_react, 0.01)"
   ]
  },
  {
   "cell_type": "code",
   "execution_count": 10,
   "metadata": {},
   "outputs": [],
   "source": [
    "#For en reaktion af første orden aftager koncentrationen af reaktanten A eksponentielt med tiden \n",
    "C_A_decrease = componentA.Concentration*np.exp(-Reaction.Rate*t_reaction)\n"
   ]
  },
  {
   "cell_type": "code",
   "execution_count": 11,
   "metadata": {
    "scrolled": true
   },
   "outputs": [
    {
     "data": {
      "image/png": "[encoded data removed]",
      "text/plain": [
       "<Figure size 432x288 with 1 Axes>"
      ]
     },
     "metadata": {
      "needs_background": "light"
     },
     "output_type": "display_data"
    }
   ],
   "source": [
    "fig = plt.figure()\n",
    "ax = plt.subplot(111)\n",
    "ax.plot(t_reaction,C_A_decrease, label = 'Concentration decrease of A')\n",
    "plt.title('Concentration first order')\n",
    "ax.legend()\n",
    "plt.show()"
   ]
  },
  {
   "cell_type": "code",
   "execution_count": null,
   "metadata": {},
   "outputs": [],
   "source": []
  },
  {
   "cell_type": "code",
   "execution_count": null,
   "metadata": {},
   "outputs": [],
   "source": []
  },
  {
   "cell_type": "code",
   "execution_count": null,
   "metadata": {},
   "outputs": [],
   "source": []
  },
  {
   "cell_type": "code",
   "execution_count": null,
   "metadata": {},
   "outputs": [],
   "source": []
  },
  {
   "cell_type": "code",
   "execution_count": null,
   "metadata": {},
   "outputs": [],
   "source": []
  },
  {
   "cell_type": "code",
   "execution_count": null,
   "metadata": {},
   "outputs": [],
   "source": []
  },
  {
   "cell_type": "code",
   "execution_count": null,
   "metadata": {},
   "outputs": [],
   "source": []
  }
 ],
 "metadata": {
  "kernelspec": {
   "display_name": "Python 3",
   "language": "python",
   "name": "python3"
  },
  "language_info": {
   "codemirror_mode": {
    "name": "ipython",
    "version": 3
   },
   "file_extension": ".py",
   "mimetype": "text/x-python",
   "name": "python",
   "nbconvert_exporter": "python",
   "pygments_lexer": "ipython3",
   "version": "3.7.3"
  }
 },
 "nbformat": 4,
 "nbformat_minor": 2
}

{
 "cells": [
  {
   "cell_type": "markdown",
   "metadata": {},
   "source": [
    "Initialize. Call the commandoes:"
   ]
  },
  {
   "cell_type": "code",
   "execution_count": 1,
   "metadata": {},
   "outputs": [],
   "source": [
    "# Initialization\n",
    "import matplotlib.pyplot as plt\n",
    "import numpy as np\n",
    "import pandas as pd\n",
    "import dataclasses as dataclass\n",
    "import matplotlib.pyplot as plt\n",
    "from scipy.integrate import quad\n",
    "import math"
   ]
  },
  {
   "cell_type": "code",
   "execution_count": 2,
   "metadata": {},
   "outputs": [],
   "source": [
    "# Making the class of the mixer\n",
    "class BatchMixer:\n",
    "    def __init__(self, Stream, F_stream, C_stream):\n",
    "        self.Stream = Stream # Stream is the number or name of the stream\n",
    "        self.F_stream = F_stream # Flow is the flow for the specific stream [=] m3/h\n",
    "        self.C_stream = C_stream # Concentration is the concentration for the specific component [=] mol/m3\n",
    "# Expample values:\n",
    "batch = [BatchMixer(\"Stream 1\", 100, 2), #For stream number 1 the flow is 100 m3/h and the concentration is 2 mol/m3\n",
    "         BatchMixer(\"Stream 2\", 50,  3)] #For stream number 2 the flow is 50 m3/h and the concentration is 3 mol/m3\n",
    "# More streams can be added "
   ]
  },
  {
   "cell_type": "code",
   "execution_count": 3,
   "metadata": {},
   "outputs": [],
   "source": [
    "# Constants definitions\n",
    "#The time for the inflow is now defined. This specifies for how long the streams will go into the mixer.\n",
    "t_loading = 16 # For this example the simulation will run for 16 h\n",
    "time = np.arange(0,t_loading) #The time is now made as an interval going from 0 to the t_loading value "
   ]
  },
  {
   "cell_type": "code",
   "execution_count": 4,
   "metadata": {},
   "outputs": [],
   "source": [
    "# Volume calculations \n",
    "# An array for the volume is made finding the volumes for all streams\n",
    "\n",
    "V_array = [] \n",
    "for b in batch: # Taking the values from the class\n",
    "    volume = b.F_stream*time # The calculation of the volumes\n",
    "    V_array.append(volume) # Inserting the values in the array\n",
    "V_total_array = sum(V_array) # The total volume array depending on time\n",
    "V_total = V_total_array[-1] # Total final volume is the last value in the array"
   ]
  },
  {
   "cell_type": "code",
   "execution_count": 5,
   "metadata": {
    "scrolled": true
   },
   "outputs": [
    {
     "data": {
      "image/png": "[encoded data removed]",
      "text/plain": [
       "<Figure size 432x288 with 1 Axes>"
      ]
     },
     "metadata": {
      "needs_background": "light"
     },
     "output_type": "display_data"
    }
   ],
   "source": [
    "# Plot the volume of the mixer.\n",
    "fig = plt.figure()\n",
    "ax = plt.subplot(111)\n",
    "ax.plot(time,V_total_array, label = 'Total volume flow ')\n",
    "plt.title('Volume plot')\n",
    "ax.legend()\n",
    "plt.show()"
   ]
  },
  {
   "cell_type": "code",
   "execution_count": 7,
   "metadata": {},
   "outputs": [
    {
     "name": "stdout",
     "output_type": "stream",
     "text": [
      "The concentration of 'Stream 1', is 1.4222222222222223\n",
      "The concentration of 'Stream 2', is 1.0666666666666667\n"
     ]
    }
   ],
   "source": [
    "#The concentrations in the mixer is calculated. \n",
    "for b in batch: # Taking the values from the class batch\n",
    "    concentration = b.C_stream*b.F_stream*t_loading/(V_total) # Calculating the concentrations of the components in the mixer \n",
    "    print('The concentration of ' + repr(b.Stream) + ', is ' + repr(concentration)) # Print the values"
   ]
  },
  {
   "cell_type": "code",
   "execution_count": null,
   "metadata": {
    "scrolled": true
   },
   "outputs": [],
   "source": []
  },
  {
   "cell_type": "code",
   "execution_count": null,
   "metadata": {},
   "outputs": [],
   "source": []
  },
  {
   "cell_type": "code",
   "execution_count": null,
   "metadata": {},
   "outputs": [],
   "source": []
  },
  {
   "cell_type": "code",
   "execution_count": null,
   "metadata": {},
   "outputs": [],
   "source": []
  },
  {
   "cell_type": "code",
   "execution_count": null,
   "metadata": {},
   "outputs": [],
   "source": []
  },
  {
   "cell_type": "code",
   "execution_count": null,
   "metadata": {},
   "outputs": [],
   "source": []
  },
  {
   "cell_type": "code",
   "execution_count": null,
   "metadata": {},
   "outputs": [],
   "source": []
  },
  {
   "cell_type": "code",
   "execution_count": null,
   "metadata": {},
   "outputs": [],
   "source": []
  },
  {
   "cell_type": "code",
   "execution_count": null,
   "metadata": {},
   "outputs": [],
   "source": []
  },
  {
   "cell_type": "code",
   "execution_count": null,
   "metadata": {},
   "outputs": [],
   "source": []
  },
  {
   "cell_type": "code",
   "execution_count": null,
   "metadata": {},
   "outputs": [],
   "source": []
  },
  {
   "cell_type": "code",
   "execution_count": null,
   "metadata": {},
   "outputs": [],
   "source": []
  }
 ],
 "metadata": {
  "kernelspec": {
   "display_name": "Python 3",
   "language": "python",
   "name": "python3"
  },
  "language_info": {
   "codemirror_mode": {
    "name": "ipython",
    "version": 3
   },
   "file_extension": ".py",
   "mimetype": "text/x-python",
   "name": "python",
   "nbconvert_exporter": "python",
   "pygments_lexer": "ipython3",
   "version": "3.7.3"
  }
 },
 "nbformat": 4,
 "nbformat_minor": 2
}

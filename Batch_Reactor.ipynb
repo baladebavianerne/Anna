{
 "cells": [
  {
   "cell_type": "markdown",
   "metadata": {},
   "source": [
    "Initialize. Call the commandoes:"
   ]
  },
  {
   "cell_type": "code",
   "execution_count": 1,
   "metadata": {},
   "outputs": [],
   "source": [
    "# Initialization\n",
    "import matplotlib.pyplot as plt\n",
    "import numpy as np\n",
    "import pandas as pd\n",
    "from scipy.integrate import quad\n",
    "import math\n",
    "from math import exp, expm1"
   ]
  },
  {
   "cell_type": "markdown",
   "metadata": {},
   "source": [
    "Class definition.\n",
    "The class is defined with the following variables:\n",
    "\n",
    "Stream is the number or name of the stream\n",
    "\n",
    "Flow is the flow for the specific stream [=] m3/h\n",
    "\n",
    "Concentration is the concentration for the specific component [=] mol/m3\n",
    "\n",
    "The class is now defined:"
   ]
  },
  {
   "cell_type": "code",
   "execution_count": 2,
   "metadata": {},
   "outputs": [],
   "source": [
    "class BatchReactor:\n",
    "    def __init__(self, Stream, Flow, Concentration):\n",
    "        self.Stream = Stream\n",
    "        self.Flow = Flow\n",
    "        self.Concentration = Concentration\n",
    "\n",
    "#For this example the calculations are done with 1 streams obtaining the following name and value:\n",
    "#For stream number 1 the flow is 100 m3/h and the concentration is 2 mol/m3\n",
    "batchreactorA = BatchReactor(\"Stream A\", 100, 2)\n"
   ]
  },
  {
   "cell_type": "code",
   "execution_count": 3,
   "metadata": {},
   "outputs": [],
   "source": [
    "# The reaction is: A_in -> B + A_out\n",
    "#Where A_in is the parameters in the class"
   ]
  },
  {
   "cell_type": "code",
   "execution_count": 4,
   "metadata": {},
   "outputs": [],
   "source": [
    "# Constants definitions\n",
    "#The time for the inflow is now defined. This specifies for how long the streams will go into the mixer.\n",
    "#The unit is in hours. For this example the simulation will run for 10 h\n",
    "T_inflow = 10\n",
    "\n",
    "#Reactor conversion [0;1]\n",
    "X_reaction = 0.9\n",
    "\n",
    "# Reaction rate constant, k:\n",
    "k_reaction = 1.5"
   ]
  },
  {
   "cell_type": "code",
   "execution_count": 5,
   "metadata": {},
   "outputs": [],
   "source": [
    "# Variable definition\n",
    "#The time is now made as an interval going from 1 to the T_inflow value \n",
    "time = np.arange(1,T_inflow)"
   ]
  },
  {
   "cell_type": "code",
   "execution_count": 6,
   "metadata": {},
   "outputs": [],
   "source": [
    "# Volume calculations \n",
    "# The volume going into the batch reactor is V = flow*t \n",
    "V_in = batchreactorA.Flow*time\n",
    "#The constant volume after loading time is\n",
    "V_reactor = batchreactorA.Flow*T_inflow"
   ]
  },
  {
   "cell_type": "code",
   "execution_count": 7,
   "metadata": {},
   "outputs": [
    {
     "name": "stdout",
     "output_type": "stream",
     "text": [
      "The value of CA_out is 0.19999999999999996, and C_B is 1.8\n"
     ]
    }
   ],
   "source": [
    "#The concentrations of A_out and B are now calculated after the reaction\n",
    "\n",
    "B_concentration = batchreactorA.Concentration*X_reaction\n",
    "\n",
    "A_out_concentration = batchreactorA.Concentration*(1-X_reaction)\n",
    "\n",
    "# The values of the concentrations are:\n",
    "print('The value of CA_out is ' + repr(A_out_concentration) + ', and C_B is ' + repr(B_concentration))"
   ]
  },
  {
   "cell_type": "code",
   "execution_count": 8,
   "metadata": {},
   "outputs": [
    {
     "name": "stdout",
     "output_type": "stream",
     "text": [
      "1.535056728662702\n"
     ]
    }
   ],
   "source": [
    "#The mixing time for the reaction is now calculated for a first order reaction \n",
    "\n",
    "def integrand(X_reaction):\n",
    "    return batchreactorA.Concentration/(k_reaction*(1-X_reaction)*batchreactorA.Concentration)\n",
    "\n",
    "t_reac, err = quad(integrand, 0, X_reaction)\n",
    "print(t_reac)"
   ]
  },
  {
   "cell_type": "code",
   "execution_count": 23,
   "metadata": {},
   "outputs": [],
   "source": [
    "# Reaction time as an array\n",
    "t_reaction = np.arange(0.001, t_reac, 0.01)"
   ]
  },
  {
   "cell_type": "code",
   "execution_count": 27,
   "metadata": {},
   "outputs": [],
   "source": [
    "#For en reaktion af første orden aftager koncentrationen af reaktanten A eksponentielt med tiden \n",
    "C_aftager = batchreactorA.Concentration*np.exp(-k_reaction*t_reaction)\n",
    "\n",
    "\n"
   ]
  },
  {
   "cell_type": "code",
   "execution_count": 28,
   "metadata": {},
   "outputs": [
    {
     "data": {
      "image/png": "[encoded data removed]",
      "text/plain": [
       "<Figure size 432x288 with 1 Axes>"
      ]
     },
     "metadata": {
      "needs_background": "light"
     },
     "output_type": "display_data"
    }
   ],
   "source": [
    "fig = plt.figure()\n",
    "ax = plt.subplot(111)\n",
    "ax.plot(t_reaction,C_aftager, label = 'Volume flow 1')\n",
    "plt.title('Volume plot')\n",
    "ax.legend()\n",
    "plt.show()"
   ]
  },
  {
   "cell_type": "code",
   "execution_count": 24,
   "metadata": {},
   "outputs": [
    {
     "data": {
      "text/plain": [
       "array([1.000e-03, 1.100e-02, 2.100e-02, 3.100e-02, 4.100e-02, 5.100e-02,\n",
       "       6.100e-02, 7.100e-02, 8.100e-02, 9.100e-02, 1.010e-01, 1.110e-01,\n",
       "       1.210e-01, 1.310e-01, 1.410e-01, 1.510e-01, 1.610e-01, 1.710e-01,\n",
       "       1.810e-01, 1.910e-01, 2.010e-01, 2.110e-01, 2.210e-01, 2.310e-01,\n",
       "       2.410e-01, 2.510e-01, 2.610e-01, 2.710e-01, 2.810e-01, 2.910e-01,\n",
       "       3.010e-01, 3.110e-01, 3.210e-01, 3.310e-01, 3.410e-01, 3.510e-01,\n",
       "       3.610e-01, 3.710e-01, 3.810e-01, 3.910e-01, 4.010e-01, 4.110e-01,\n",
       "       4.210e-01, 4.310e-01, 4.410e-01, 4.510e-01, 4.610e-01, 4.710e-01,\n",
       "       4.810e-01, 4.910e-01, 5.010e-01, 5.110e-01, 5.210e-01, 5.310e-01,\n",
       "       5.410e-01, 5.510e-01, 5.610e-01, 5.710e-01, 5.810e-01, 5.910e-01,\n",
       "       6.010e-01, 6.110e-01, 6.210e-01, 6.310e-01, 6.410e-01, 6.510e-01,\n",
       "       6.610e-01, 6.710e-01, 6.810e-01, 6.910e-01, 7.010e-01, 7.110e-01,\n",
       "       7.210e-01, 7.310e-01, 7.410e-01, 7.510e-01, 7.610e-01, 7.710e-01,\n",
       "       7.810e-01, 7.910e-01, 8.010e-01, 8.110e-01, 8.210e-01, 8.310e-01,\n",
       "       8.410e-01, 8.510e-01, 8.610e-01, 8.710e-01, 8.810e-01, 8.910e-01,\n",
       "       9.010e-01, 9.110e-01, 9.210e-01, 9.310e-01, 9.410e-01, 9.510e-01,\n",
       "       9.610e-01, 9.710e-01, 9.810e-01, 9.910e-01, 1.001e+00, 1.011e+00,\n",
       "       1.021e+00, 1.031e+00, 1.041e+00, 1.051e+00, 1.061e+00, 1.071e+00,\n",
       "       1.081e+00, 1.091e+00, 1.101e+00, 1.111e+00, 1.121e+00, 1.131e+00,\n",
       "       1.141e+00, 1.151e+00, 1.161e+00, 1.171e+00, 1.181e+00, 1.191e+00,\n",
       "       1.201e+00, 1.211e+00, 1.221e+00, 1.231e+00, 1.241e+00, 1.251e+00,\n",
       "       1.261e+00, 1.271e+00, 1.281e+00, 1.291e+00, 1.301e+00, 1.311e+00,\n",
       "       1.321e+00, 1.331e+00, 1.341e+00, 1.351e+00, 1.361e+00, 1.371e+00,\n",
       "       1.381e+00, 1.391e+00, 1.401e+00, 1.411e+00, 1.421e+00, 1.431e+00,\n",
       "       1.441e+00, 1.451e+00, 1.461e+00, 1.471e+00, 1.481e+00, 1.491e+00,\n",
       "       1.501e+00, 1.511e+00, 1.521e+00, 1.531e+00])"
      ]
     },
     "execution_count": 24,
     "metadata": {},
     "output_type": "execute_result"
    }
   ],
   "source": [
    "t_reaction"
   ]
  },
  {
   "cell_type": "code",
   "execution_count": 15,
   "metadata": {},
   "outputs": [
    {
     "data": {
      "text/plain": [
       "0.44626032029685964"
      ]
     },
     "execution_count": 15,
     "metadata": {},
     "output_type": "execute_result"
    }
   ],
   "source": [
    "C_aftager"
   ]
  },
  {
   "cell_type": "code",
   "execution_count": 26,
   "metadata": {},
   "outputs": [
    {
     "data": {
      "text/plain": [
       "0.44626032029685964"
      ]
     },
     "execution_count": 26,
     "metadata": {},
     "output_type": "execute_result"
    }
   ],
   "source": [
    "batchreactorA.Concentration*math.exp(-k_reaction)"
   ]
  },
  {
   "cell_type": "code",
   "execution_count": null,
   "metadata": {},
   "outputs": [],
   "source": []
  },
  {
   "cell_type": "code",
   "execution_count": null,
   "metadata": {},
   "outputs": [],
   "source": []
  },
  {
   "cell_type": "code",
   "execution_count": null,
   "metadata": {},
   "outputs": [],
   "source": []
  },
  {
   "cell_type": "code",
   "execution_count": null,
   "metadata": {},
   "outputs": [],
   "source": []
  }
 ],
 "metadata": {
  "kernelspec": {
   "display_name": "Python 3",
   "language": "python",
   "name": "python3"
  },
  "language_info": {
   "codemirror_mode": {
    "name": "ipython",
    "version": 3
   },
   "file_extension": ".py",
   "mimetype": "text/x-python",
   "name": "python",
   "nbconvert_exporter": "python",
   "pygments_lexer": "ipython3",
   "version": "3.7.3"
  }
 },
 "nbformat": 4,
 "nbformat_minor": 2
}

{
 "cells": [
  {
   "cell_type": "markdown",
   "metadata": {},
   "source": [
    "Initialize. Call the commandoes:"
   ]
  },
  {
   "cell_type": "code",
   "execution_count": 1,
   "metadata": {},
   "outputs": [],
   "source": [
    "# Initialization\n",
    "import matplotlib.pyplot as plt\n",
    "import numpy as np\n",
    "import pandas as pd\n",
    "from scipy.integrate import quad\n",
    "from scipy.integrate import odeint\n",
    "import math\n",
    "from math import exp, expm1\n",
    "from dataclasses import dataclass"
   ]
  },
  {
   "cell_type": "code",
   "execution_count": 2,
   "metadata": {},
   "outputs": [],
   "source": [
    "#Defining the classes:\n",
    "class BatchReactant:\n",
    "    def __init__(self, Name, Number, Coefficient, Concentration, Order, EndConcentration):\n",
    "        self.Name = Name # The reactant is given a name \n",
    "        self.Number = Number # The reactant is given a number\n",
    "        self.Coefficient = Coefficient # The reactant coefficient  \n",
    "        self.Concentration = Concentration # The reactant concentration\n",
    "        self.Order = Order # The reactant order\n",
    "        self.EndConcentration = EndConcentration # The unknown end concentration. \n",
    "\n",
    "reactant = [BatchReactant(\"Component A\", 1, 1, 0.80, 2, 'X'),\n",
    "            BatchReactant(\"Component B\", 2, 2, 0.60, 1, 'X'),\n",
    "            BatchReactant(\"Component C\", 3, 6, 0.88, 0, 'X')]\n",
    "\n",
    "class BatchProduct:\n",
    "    def __init__(self, Name, Coefficient, Concentration, EndConcentration):\n",
    "        self.Name = Name #The product is given a name\n",
    "        self.Coefficient = Coefficient\n",
    "        self.Concentration = Concentration\n",
    "        self.EndConcentration = EndConcentration\n",
    "\n",
    "product = [BatchProduct(\"Product D\", 1, 0, 'X'),\n",
    "           BatchProduct(\"Product E\", 2, 0, 'X')]\n",
    "\n",
    "\n",
    "class BatchReaction:\n",
    "    def __init__(self, Reaction, Conversion, Rate, Volume):\n",
    "        self.Reaction = Reaction\n",
    "        self.Conversion = Conversion\n",
    "        self.Rate = Rate\n",
    "        self.Volume = Volume\n",
    "        \n",
    "reaction = BatchReaction(\"Reaction 1\", 0.8, 1.2, 8)\n",
    "\n",
    "# The reaction is given a name\n",
    "# The conversion is entered as Convension \n",
    "# The rate is entered as Rate\n",
    "# The volume of the batch is constant and entered as Volume"
   ]
  },
  {
   "cell_type": "code",
   "execution_count": 3,
   "metadata": {},
   "outputs": [],
   "source": [
    "# Finding the limiting reactant amount\n",
    "Amount = [];\n",
    "for r in reactant:\n",
    "    amount = r.Concentration/r.Coefficient\n",
    "    Amount.append(amount)\n",
    "    Limit_amount = min(Amount)\n",
    "    if Limit_amount == amount:\n",
    "        limit_coef = r.Coefficient \n",
    "        limit_concentration = r.Concentration\n",
    "        limit_number = r.Number"
   ]
  },
  {
   "cell_type": "code",
   "execution_count": 4,
   "metadata": {},
   "outputs": [],
   "source": [
    "# End concentration reactant\n",
    "for r in reactant:\n",
    "    r.EndConcentration = r.Concentration-r.Coefficient/limit_coef*limit_concentration*reaction.Conversion "
   ]
  },
  {
   "cell_type": "code",
   "execution_count": 5,
   "metadata": {},
   "outputs": [],
   "source": [
    "# End concentration products\n",
    "for p in product:\n",
    "    p.EndConcentration = p.Concentration+p.Coefficient/limit_coef*limit_concentration*reaction.Conversion"
   ]
  },
  {
   "cell_type": "code",
   "execution_count": 6,
   "metadata": {},
   "outputs": [
    {
     "name": "stdout",
     "output_type": "stream",
     "text": [
      "The final concentration of Component A, is 0.6826666666666668\n",
      "The final concentration of Component B, is 0.3653333333333333\n",
      "The final concentration of Component C, is 0.17599999999999993\n",
      "The final concentration of Product D, is 0.11733333333333335\n",
      "The final concentration of Product E, is 0.2346666666666667\n"
     ]
    }
   ],
   "source": [
    "# Printing the end concentrations:\n",
    "for r in reactant:\n",
    "    print('The final concentration of ' + str(r.Name) + ', is ' + str(r.EndConcentration))\n",
    "for p in product:\n",
    "    print('The final concentration of ' + str(p.Name) + ', is ' + str(p.EndConcentration))"
   ]
  },
  {
   "cell_type": "code",
   "execution_count": 7,
   "metadata": {},
   "outputs": [],
   "source": [
    "#The mixing time for the reaction is now calculated:\n",
    "def integrand(X):\n",
    "    rate=1;\n",
    "    for r in reactant:\n",
    "        Q = (r.Concentration-r.Coefficient/limit_coef*limit_concentration*X)**(r.Order)\n",
    "        rate = rate*Q\n",
    "    return limit_concentration/(reaction.Rate*rate)\n",
    "t_react, err = quad(integrand, 0, reaction.Conversion)"
   ]
  },
  {
   "cell_type": "code",
   "execution_count": 8,
   "metadata": {},
   "outputs": [],
   "source": [
    "#The time is made into a vector\n",
    "time = np.linspace(0,t_react,num=100)"
   ]
  },
  {
   "cell_type": "code",
   "execution_count": 9,
   "metadata": {},
   "outputs": [],
   "source": [
    "# The reaction kinetics for the reactants \n",
    "Concentration_reactant_initial = [];\n",
    "Order_reactant = [];\n",
    "for r in reactant:\n",
    "    Concentration_reactant_initial.append(r.Concentration)\n",
    "    Order_reactant.append(r.Order)"
   ]
  },
  {
   "cell_type": "code",
   "execution_count": 10,
   "metadata": {},
   "outputs": [],
   "source": [
    "# Model the system for the reactants\n",
    "def model_reactant(Conc_r, time):\n",
    "    rate_r = 1;\n",
    "    for c in range(len(Concentration_reactant_initial)):\n",
    "        each_r = Conc_r[c-1]**Order_reactant[c-1]\n",
    "        rate_r = rate_r * each_r\n",
    "    dCrdt = [];\n",
    "    for r in reactant:\n",
    "        dCrdt.append(-reaction.Rate*rate_r*r.Coefficient/limit_coef)\n",
    "    return dCrdt"
   ]
  },
  {
   "cell_type": "code",
   "execution_count": 11,
   "metadata": {},
   "outputs": [],
   "source": [
    "#Solve the reactant system\n",
    "sol_r = odeint(model_reactant, Concentration_reactant_initial, time)"
   ]
  },
  {
   "cell_type": "code",
   "execution_count": 12,
   "metadata": {},
   "outputs": [
    {
     "data": {
      "image/png": "[encoded data removed]",
      "text/plain": [
       "<Figure size 432x288 with 1 Axes>"
      ]
     },
     "metadata": {
      "needs_background": "light"
     },
     "output_type": "display_data"
    }
   ],
   "source": [
    "# Plot the reactants \n",
    "fig = plt.figure()\n",
    "ax = plt.subplot(111)\n",
    "ax.plot(time,sol_r[:,0], label = 'Ca')\n",
    "ax.plot(time,sol_r[:,1], label = 'Cb')\n",
    "ax.plot(time,sol_r[:,2], label = 'Cc')\n",
    "plt.title('Concentration profile of reactants')\n",
    "ax.legend()\n",
    "plt.show()"
   ]
  },
  {
   "cell_type": "code",
   "execution_count": 13,
   "metadata": {},
   "outputs": [],
   "source": [
    "# Finding the limiting solution vector:\n",
    "reactant_limiting_solution = sol_r[:,(limit_number-1)]"
   ]
  },
  {
   "cell_type": "code",
   "execution_count": 14,
   "metadata": {},
   "outputs": [],
   "source": [
    "# Model the system for the products \n",
    "dCpdt = [];\n",
    "for p in product:\n",
    "    dCpdt.append(p.Concentration+p.Coefficient/limit_coef*(limit_concentration - reactant_limiting_solution))"
   ]
  },
  {
   "cell_type": "code",
   "execution_count": 15,
   "metadata": {},
   "outputs": [
    {
     "data": {
      "image/png": "[encoded data removed]",
      "text/plain": [
       "<Figure size 432x288 with 1 Axes>"
      ]
     },
     "metadata": {
      "needs_background": "light"
     },
     "output_type": "display_data"
    }
   ],
   "source": [
    "# Plot the products\n",
    "fig = plt.figure()\n",
    "ax = plt.subplot(111)\n",
    "ax.plot(time,dCpdt[0], label = 'Cd')\n",
    "ax.plot(time,dCpdt[1], label = 'Ce')\n",
    "plt.title('Concentration profile of products')\n",
    "ax.legend()\n",
    "plt.show()"
   ]
  },
  {
   "cell_type": "code",
   "execution_count": 16,
   "metadata": {},
   "outputs": [
    {
     "data": {
      "image/png": "[encoded data removed]",
      "text/plain": [
       "<Figure size 432x288 with 1 Axes>"
      ]
     },
     "metadata": {
      "needs_background": "light"
     },
     "output_type": "display_data"
    }
   ],
   "source": [
    "#Plot of the products and reactants:\n",
    "fig = plt.figure()\n",
    "ax = plt.subplot(111)\n",
    "ax.plot(time,sol_r[:,0], label = 'Ca')\n",
    "ax.plot(time,sol_r[:,1], label = 'Cb')\n",
    "ax.plot(time,sol_r[:,2], label = 'Cc')\n",
    "ax.plot(time,dCpdt[0], label = 'Cd')\n",
    "ax.plot(time,dCpdt[1], label = 'Ce')\n",
    "plt.title('Concentration profile of reactants and products')\n",
    "ax.legend()\n",
    "plt.show()"
   ]
  },
  {
   "cell_type": "code",
   "execution_count": null,
   "metadata": {},
   "outputs": [],
   "source": []
  },
  {
   "cell_type": "code",
   "execution_count": null,
   "metadata": {},
   "outputs": [],
   "source": []
  },
  {
   "cell_type": "code",
   "execution_count": null,
   "metadata": {},
   "outputs": [],
   "source": []
  },
  {
   "cell_type": "code",
   "execution_count": null,
   "metadata": {},
   "outputs": [],
   "source": []
  },
  {
   "cell_type": "code",
   "execution_count": null,
   "metadata": {},
   "outputs": [],
   "source": []
  },
  {
   "cell_type": "code",
   "execution_count": null,
   "metadata": {},
   "outputs": [],
   "source": []
  },
  {
   "cell_type": "code",
   "execution_count": null,
   "metadata": {},
   "outputs": [],
   "source": []
  },
  {
   "cell_type": "code",
   "execution_count": null,
   "metadata": {},
   "outputs": [],
   "source": []
  },
  {
   "cell_type": "code",
   "execution_count": null,
   "metadata": {},
   "outputs": [],
   "source": []
  },
  {
   "cell_type": "code",
   "execution_count": null,
   "metadata": {},
   "outputs": [],
   "source": []
  },
  {
   "cell_type": "code",
   "execution_count": null,
   "metadata": {},
   "outputs": [],
   "source": []
  },
  {
   "cell_type": "code",
   "execution_count": null,
   "metadata": {},
   "outputs": [],
   "source": []
  },
  {
   "cell_type": "code",
   "execution_count": null,
   "metadata": {},
   "outputs": [],
   "source": []
  },
  {
   "cell_type": "code",
   "execution_count": null,
   "metadata": {},
   "outputs": [],
   "source": []
  },
  {
   "cell_type": "code",
   "execution_count": null,
   "metadata": {},
   "outputs": [],
   "source": []
  },
  {
   "cell_type": "code",
   "execution_count": null,
   "metadata": {},
   "outputs": [],
   "source": []
  },
  {
   "cell_type": "code",
   "execution_count": null,
   "metadata": {},
   "outputs": [],
   "source": []
  },
  {
   "cell_type": "code",
   "execution_count": null,
   "metadata": {},
   "outputs": [],
   "source": []
  },
  {
   "cell_type": "code",
   "execution_count": null,
   "metadata": {},
   "outputs": [],
   "source": []
  },
  {
   "cell_type": "code",
   "execution_count": null,
   "metadata": {},
   "outputs": [],
   "source": []
  },
  {
   "cell_type": "code",
   "execution_count": null,
   "metadata": {},
   "outputs": [],
   "source": []
  },
  {
   "cell_type": "code",
   "execution_count": null,
   "metadata": {
    "scrolled": true
   },
   "outputs": [],
   "source": []
  },
  {
   "cell_type": "code",
   "execution_count": null,
   "metadata": {},
   "outputs": [],
   "source": []
  },
  {
   "cell_type": "code",
   "execution_count": null,
   "metadata": {},
   "outputs": [],
   "source": []
  },
  {
   "cell_type": "code",
   "execution_count": null,
   "metadata": {},
   "outputs": [],
   "source": []
  },
  {
   "cell_type": "code",
   "execution_count": null,
   "metadata": {},
   "outputs": [],
   "source": []
  },
  {
   "cell_type": "code",
   "execution_count": null,
   "metadata": {},
   "outputs": [],
   "source": []
  },
  {
   "cell_type": "code",
   "execution_count": null,
   "metadata": {},
   "outputs": [],
   "source": []
  },
  {
   "cell_type": "code",
   "execution_count": null,
   "metadata": {},
   "outputs": [],
   "source": []
  }
 ],
 "metadata": {
  "kernelspec": {
   "display_name": "Python 3",
   "language": "python",
   "name": "python3"
  },
  "language_info": {
   "codemirror_mode": {
    "name": "ipython",
    "version": 3
   },
   "file_extension": ".py",
   "mimetype": "text/x-python",
   "name": "python",
   "nbconvert_exporter": "python",
   "pygments_lexer": "ipython3",
   "version": "3.7.3"
  }
 },
 "nbformat": 4,
 "nbformat_minor": 2
}

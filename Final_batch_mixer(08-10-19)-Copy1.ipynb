{
 "cells": [
  {
   "cell_type": "markdown",
   "metadata": {},
   "source": [
    "Initialize. Call the commandoes:"
   ]
  },
  {
   "cell_type": "code",
   "execution_count": 1,
   "metadata": {},
   "outputs": [],
   "source": [
    "# Initialization\n",
    "import matplotlib.pyplot as plt\n",
    "import numpy as np\n",
    "import pandas as pd\n",
    "import dataclasses as dataclass\n",
    "import matplotlib.pyplot as plt\n",
    "from scipy.integrate import quad\n",
    "import math"
   ]
  },
  {
   "cell_type": "code",
   "execution_count": 2,
   "metadata": {},
   "outputs": [],
   "source": [
    "# Making the class of the mixer\n",
    "class BatchMixer:\n",
    "    def __init__(self, Component, Stream, X_component, mass_stream, mass_component):\n",
    "        self.Component = Component\n",
    "        self.Stream = Stream \n",
    "        self.X_component = X_component\n",
    "        self.mass_stream = mass_stream\n",
    "        self.mass_component = mass_component\n",
    "        \n",
    "# Expample values:\n",
    "batch = [BatchMixer(\"Sugar\",  1, 2.5 , 125 , 'X'), \n",
    "         BatchMixer(\"Water\",  1, 50  , 125 , 'X'),\n",
    "         BatchMixer(\"Solids\", 1, 47.5, 125 , 'X'),\n",
    "         BatchMixer(\"Sugar\",  2, 1   , 45  , 'X'),\n",
    "         BatchMixer(\"Water\",  2, 18  , 45  , 'X'),\n",
    "         BatchMixer(\"Solids\", 2, 31  , 45  , 'X'),\n",
    "         BatchMixer(\"Sucrose\",2, 50  , 45  , 'X'),\n",
    "         BatchMixer(\"Water\",  3, 100 , 8.75, 'X')]"
   ]
  },
  {
   "cell_type": "code",
   "execution_count": 10,
   "metadata": {},
   "outputs": [
    {
     "name": "stdout",
     "output_type": "stream",
     "text": [
      "The total mass is 178.75 kg\n"
     ]
    }
   ],
   "source": [
    "# Mass calculations \n",
    "Mass_component = []\n",
    "Component_array = []\n",
    "for b in batch:\n",
    "    b.mass_component = (b.X_component/100)*b.mass_stream\n",
    "    Mass_component.append(b.mass_component)\n",
    "    Component_array.append(b.Component)\n",
    "Mass_total = sum(Mass_component) \n",
    "\n",
    "print('The total mass is ' + repr(Mass_total) + ' kg')"
   ]
  },
  {
   "cell_type": "code",
   "execution_count": 6,
   "metadata": {},
   "outputs": [
    {
     "name": "stdout",
     "output_type": "stream",
     "text": [
      "The total mass of 'Sugar', is 3.575 kg\n",
      "The total concentration of 'Sugar', is 2.0 %\n",
      "The total mass of 'Water', is 79.35 kg\n",
      "The total concentration of 'Water', is 44.39160839160839 %\n",
      "The total mass of 'Solids', is 73.325 kg\n",
      "The total concentration of 'Solids', is 41.02097902097903 %\n",
      "The total mass of 'Sucrose', is 22.5 kg\n",
      "The total concentration of 'Sucrose', is 12.587412587412588 %\n"
     ]
    }
   ],
   "source": [
    "#Removing duplicates:\n",
    "components = list(dict.fromkeys(Component_array))\n",
    "\n",
    "# Total mass of each component\n",
    "for m in range(len(components)):\n",
    "    mass = [];\n",
    "    conc = [];\n",
    "    for b in batch:\n",
    "        if components[m] == b.Component:\n",
    "            mass.append(b.mass_component)\n",
    "            conc.append(b.mass_component/Mass_total*100)\n",
    "    print('The total mass of ' + repr(components[m]) + ', is ' + repr(sum(mass)) + ' kg');\n",
    "    print('The total concentration of ' + repr(components[m]) + ', is ' + repr(sum(conc)) + ' %');"
   ]
  },
  {
   "cell_type": "code",
   "execution_count": null,
   "metadata": {
    "scrolled": true
   },
   "outputs": [],
   "source": []
  },
  {
   "cell_type": "code",
   "execution_count": null,
   "metadata": {
    "scrolled": true
   },
   "outputs": [],
   "source": []
  },
  {
   "cell_type": "code",
   "execution_count": null,
   "metadata": {},
   "outputs": [],
   "source": [
    "\n"
   ]
  },
  {
   "cell_type": "code",
   "execution_count": null,
   "metadata": {
    "scrolled": true
   },
   "outputs": [],
   "source": []
  },
  {
   "cell_type": "code",
   "execution_count": null,
   "metadata": {},
   "outputs": [],
   "source": []
  },
  {
   "cell_type": "code",
   "execution_count": null,
   "metadata": {},
   "outputs": [],
   "source": []
  },
  {
   "cell_type": "code",
   "execution_count": null,
   "metadata": {},
   "outputs": [],
   "source": []
  },
  {
   "cell_type": "code",
   "execution_count": null,
   "metadata": {},
   "outputs": [],
   "source": []
  },
  {
   "cell_type": "code",
   "execution_count": null,
   "metadata": {},
   "outputs": [],
   "source": []
  },
  {
   "cell_type": "code",
   "execution_count": null,
   "metadata": {},
   "outputs": [],
   "source": []
  },
  {
   "cell_type": "code",
   "execution_count": null,
   "metadata": {},
   "outputs": [],
   "source": []
  },
  {
   "cell_type": "code",
   "execution_count": null,
   "metadata": {},
   "outputs": [],
   "source": []
  },
  {
   "cell_type": "code",
   "execution_count": null,
   "metadata": {},
   "outputs": [],
   "source": []
  },
  {
   "cell_type": "code",
   "execution_count": null,
   "metadata": {},
   "outputs": [],
   "source": []
  },
  {
   "cell_type": "code",
   "execution_count": null,
   "metadata": {},
   "outputs": [],
   "source": []
  },
  {
   "cell_type": "code",
   "execution_count": null,
   "metadata": {},
   "outputs": [],
   "source": []
  }
 ],
 "metadata": {
  "kernelspec": {
   "display_name": "Python 3",
   "language": "python",
   "name": "python3"
  },
  "language_info": {
   "codemirror_mode": {
    "name": "ipython",
    "version": 3
   },
   "file_extension": ".py",
   "mimetype": "text/x-python",
   "name": "python",
   "nbconvert_exporter": "python",
   "pygments_lexer": "ipython3",
   "version": "3.7.3"
  }
 },
 "nbformat": 4,
 "nbformat_minor": 2
}

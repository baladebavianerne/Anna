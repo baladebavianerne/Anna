{
 "cells": [
  {
   "cell_type": "markdown",
   "metadata": {},
   "source": [
    "Initialize. Call the commandoes:"
   ]
  },
  {
   "cell_type": "code",
   "execution_count": 1,
   "metadata": {},
   "outputs": [],
   "source": [
    "# Initialization\n",
    "import matplotlib.pyplot as plt\n",
    "import numpy as np\n",
    "import pandas as pd\n",
    "from scipy.integrate import quad\n",
    "from scipy.integrate import odeint\n",
    "from sympy.solvers import solve\n",
    "from sympy import Symbol\n",
    "import math\n",
    "from math import exp, expm1\n",
    "from dataclasses import dataclass"
   ]
  },
  {
   "cell_type": "code",
   "execution_count": 2,
   "metadata": {},
   "outputs": [],
   "source": [
    "#Defining the classes:\n",
    "class BatchReactant:\n",
    "    def __init__(self, Name, Number, Coefficient, InitialConcentration, Order, EndConcentration):\n",
    "        self.Name = Name # The reactant is given a name \n",
    "        self.Number = Number # The reactant is given a number\n",
    "        self.Coefficient = Coefficient # The reactant coefficient  \n",
    "        self.InitialConcentration = InitialConcentration # The reactant concentration\n",
    "        self.Order = Order # The reactant order\n",
    "        self.EndConcentration = EndConcentration # The unknown end concentration. \n",
    "\n",
    "reactant = [BatchReactant(\"A\", 1, 1, 0.07174, 1, 'X')]\n",
    "\n",
    "class BatchProduct:\n",
    "    def __init__(self, Name, Coefficient, InitialConcentration, EndConcentration):\n",
    "        self.Name = Name #The product is given a name\n",
    "        self.Coefficient = Coefficient\n",
    "        self.InitialConcentration = InitialConcentration\n",
    "        self.EndConcentration = EndConcentration\n",
    "\n",
    "product = [BatchProduct(\"B\", 2, 0, 'X')]\n",
    "\n",
    "class BatchReaction:\n",
    "    def __init__(self, Reaction, Conversion, RateConstant_forward, RateConstant_backward, K_C):\n",
    "        self.Reaction = Reaction\n",
    "        self.Conversion = Conversion\n",
    "        self.RateConstant_forward = RateConstant_forward\n",
    "        self.RateConstant_backward = RateConstant_backward\n",
    "        self.K_C = K_C\n",
    "        \n",
    "reaction = BatchReaction(\"Reaction 1\", 1, 0.5, 0.5/0.1, 'X')\n",
    "\n",
    "# The reaction is given a name\n",
    "# The conversion is entered as Convension \n",
    "# The rate is entered as Rate\n",
    "# The volume of the batch is constant and entered as Volume"
   ]
  },
  {
   "cell_type": "code",
   "execution_count": 3,
   "metadata": {},
   "outputs": [
    {
     "name": "stdout",
     "output_type": "stream",
     "text": [
      "A\n"
     ]
    }
   ],
   "source": [
    "# Finding the limiting reactant amount\n",
    "Amount = [];\n",
    "for r in reactant:\n",
    "    amount = r.InitialConcentration/r.Coefficient\n",
    "    Amount.append(amount)\n",
    "    Limit_amount = min(Amount)\n",
    "    if Limit_amount == amount:\n",
    "        limit_coef = r.Coefficient \n",
    "        limit_concentration = r.InitialConcentration\n",
    "        limit_number = r.Number\n",
    "        limit_name = r.Name\n",
    "    print(limit_name)"
   ]
  },
  {
   "cell_type": "code",
   "execution_count": 4,
   "metadata": {},
   "outputs": [
    {
     "name": "stdout",
     "output_type": "stream",
     "text": [
      "The concentration equilibrium constant for Reaction 1, is 0.1\n"
     ]
    }
   ],
   "source": [
    "# Calculate K_C\n",
    "reaction.K_C = reaction.RateConstant_forward/reaction.RateConstant_backward\n",
    "print('The concentration equilibrium constant for ' + str(reaction.Reaction) + ', is ' + str(reaction.K_C))"
   ]
  },
  {
   "cell_type": "code",
   "execution_count": 5,
   "metadata": {},
   "outputs": [
    {
     "name": "stdout",
     "output_type": "stream",
     "text": [
      "0.441259737222201\n"
     ]
    }
   ],
   "source": [
    "# Equilibrium expressions for reactants and products\n",
    "Xe = Symbol('Xe')\n",
    "for r in reactant:\n",
    "    reac_eq = (r.InitialConcentration-r.Coefficient/limit_coef*limit_concentration*Xe)**(r.Coefficient)\n",
    "for p in product:\n",
    "    prod_eq = (p.InitialConcentration+p.Coefficient/limit_coef*limit_concentration*Xe)**(p.Coefficient)\n",
    "\n",
    "Xe_value = solve(prod_eq/reac_eq - reaction.K_C , Xe)\n",
    "\n",
    "for num in Xe_value:  \n",
    "    if num >= 0:\n",
    "        Xe_value = num\n",
    "print(Xe_value)"
   ]
  },
  {
   "cell_type": "code",
   "execution_count": 6,
   "metadata": {},
   "outputs": [],
   "source": [
    "# End concentration reactant\n",
    "for r in reactant:\n",
    "    r.EndConcentration = r.InitialConcentration-r.Coefficient/limit_coef*limit_concentration*Xe_value"
   ]
  },
  {
   "cell_type": "code",
   "execution_count": 7,
   "metadata": {},
   "outputs": [],
   "source": [
    "# End concentration products\n",
    "for p in product:\n",
    "    p.EndConcentration = p.InitialConcentration+p.Coefficient/limit_coef*limit_concentration*Xe_value"
   ]
  },
  {
   "cell_type": "code",
   "execution_count": 8,
   "metadata": {},
   "outputs": [
    {
     "name": "stdout",
     "output_type": "stream",
     "text": [
      "The final concentration of A, is 0.0400840264516793\n",
      "The final concentration of B, is 0.0633119470966415\n"
     ]
    }
   ],
   "source": [
    "# Printing the end concentrations:\n",
    "for r in reactant:\n",
    "    print('The final concentration of ' + str(r.Name) + ', is ' + str(r.EndConcentration))\n",
    "for p in product:\n",
    "    print('The final concentration of ' + str(p.Name) + ', is ' + str(p.EndConcentration))"
   ]
  },
  {
   "cell_type": "code",
   "execution_count": null,
   "metadata": {},
   "outputs": [],
   "source": []
  },
  {
   "cell_type": "code",
   "execution_count": null,
   "metadata": {},
   "outputs": [],
   "source": []
  },
  {
   "cell_type": "code",
   "execution_count": 11,
   "metadata": {
    "scrolled": true
   },
   "outputs": [
    {
     "name": "stdout",
     "output_type": "stream",
     "text": [
      "21.09940134660859\n"
     ]
    },
    {
     "name": "stderr",
     "output_type": "stream",
     "text": [
      "C:\\Users\\anna9\\Anaconda3\\lib\\site-packages\\ipykernel_launcher.py:12: IntegrationWarning: Extremely bad integrand behavior occurs at some points of the\n",
      "  integration interval.\n",
      "  if sys.path[0] == '':\n"
     ]
    }
   ],
   "source": [
    "#The mixing time for the reaction is now calculated:\n",
    "def integrand(X):\n",
    "    rate_for = 1;\n",
    "    rate_back = 1;\n",
    "    for r in reactant: \n",
    "        rate_f = (r.InitialConcentration-r.Coefficient/limit_coef*limit_concentration*X)**(r.Coefficient)\n",
    "        rate_for = rate_f*rate_for\n",
    "    for p in product:\n",
    "        rate_b = (p.InitialConcentration+p.Coefficient/limit_coef*limit_concentration*X)**(p.Coefficient)\n",
    "        rate_back = rate_b*rate_back\n",
    "    return limit_concentration/(reaction.RateConstant_forward*(rate_for-rate_back/reaction.K_C))\n",
    "t_react, err = quad(integrand, 0, Xe_value)\n",
    "print(t_react)"
   ]
  },
  {
   "cell_type": "code",
   "execution_count": 12,
   "metadata": {},
   "outputs": [],
   "source": [
    "#The time is made into a vector\n",
    "time = np.linspace(0,t_react,num=100)"
   ]
  },
  {
   "cell_type": "code",
   "execution_count": 13,
   "metadata": {},
   "outputs": [],
   "source": [
    "# The reaction kinetics for the reactants \n",
    "Concentration_reactant_initial = [];\n",
    "Order_reactant = [];\n",
    "for r in reactant:\n",
    "    Concentration_reactant_initial.append(r.InitialConcentration)\n",
    "    Order_reactant.append(r.Order)"
   ]
  },
  {
   "cell_type": "code",
   "execution_count": 14,
   "metadata": {},
   "outputs": [],
   "source": [
    "# Model the system for the reactants\n",
    "def model_reactant(Conc_r, time):\n",
    "    rate_r = 1;\n",
    "    for c in range(len(Concentration_reactant_initial)):\n",
    "        Q1 = Conc_r[c-1]**Order_reactant[c-1]\n",
    "        rate_r = rate_r * Q1\n",
    "    dCrdt = [];\n",
    "    for r in reactant:\n",
    "        dCrdt.append(-reaction.RateConstant_forward*rate_r*r.Coefficient/limit_coef)\n",
    "    return dCrdt"
   ]
  },
  {
   "cell_type": "code",
   "execution_count": 15,
   "metadata": {},
   "outputs": [],
   "source": [
    "#Solve the reactant system\n",
    "sol_r = odeint(model_reactant, Concentration_reactant_initial, time)"
   ]
  },
  {
   "cell_type": "code",
   "execution_count": 16,
   "metadata": {},
   "outputs": [],
   "source": [
    "# Finding the limiting solution vector:\n",
    "reactant_limiting_solution = sol_r[:,(limit_number-1)]"
   ]
  },
  {
   "cell_type": "code",
   "execution_count": 17,
   "metadata": {},
   "outputs": [],
   "source": [
    "# Model the system for the products \n",
    "dCpdt = [];\n",
    "for p in product:\n",
    "    dCpdt.append(p.InitialConcentration+p.Coefficient/limit_coef*(limit_concentration - reactant_limiting_solution))"
   ]
  },
  {
   "cell_type": "code",
   "execution_count": 18,
   "metadata": {},
   "outputs": [
    {
     "data": {
      "image/png": "[encoded data removed]",
      "text/plain": [
       "<Figure size 432x288 with 1 Axes>"
      ]
     },
     "metadata": {
      "needs_background": "light"
     },
     "output_type": "display_data"
    }
   ],
   "source": [
    "#Plot of the products and reactants:\n",
    "fig = plt.figure()\n",
    "ax = plt.subplot(111)\n",
    "ax.plot(time,sol_r[:,0], label = 'Ca')\n",
    "ax.plot(time,dCpdt[0], label = 'Cd')\n",
    "plt.title('Concentration profile of reactants and products')\n",
    "ax.legend()\n",
    "plt.show()"
   ]
  },
  {
   "cell_type": "code",
   "execution_count": null,
   "metadata": {},
   "outputs": [],
   "source": []
  },
  {
   "cell_type": "code",
   "execution_count": null,
   "metadata": {},
   "outputs": [],
   "source": []
  },
  {
   "cell_type": "code",
   "execution_count": null,
   "metadata": {},
   "outputs": [],
   "source": []
  },
  {
   "cell_type": "code",
   "execution_count": null,
   "metadata": {},
   "outputs": [],
   "source": []
  },
  {
   "cell_type": "code",
   "execution_count": null,
   "metadata": {},
   "outputs": [],
   "source": []
  },
  {
   "cell_type": "code",
   "execution_count": null,
   "metadata": {},
   "outputs": [],
   "source": []
  },
  {
   "cell_type": "code",
   "execution_count": null,
   "metadata": {},
   "outputs": [],
   "source": []
  },
  {
   "cell_type": "code",
   "execution_count": null,
   "metadata": {},
   "outputs": [],
   "source": []
  },
  {
   "cell_type": "code",
   "execution_count": null,
   "metadata": {},
   "outputs": [],
   "source": []
  },
  {
   "cell_type": "code",
   "execution_count": null,
   "metadata": {},
   "outputs": [],
   "source": []
  },
  {
   "cell_type": "code",
   "execution_count": null,
   "metadata": {},
   "outputs": [],
   "source": []
  },
  {
   "cell_type": "code",
   "execution_count": null,
   "metadata": {},
   "outputs": [],
   "source": []
  },
  {
   "cell_type": "code",
   "execution_count": null,
   "metadata": {},
   "outputs": [],
   "source": []
  },
  {
   "cell_type": "code",
   "execution_count": null,
   "metadata": {},
   "outputs": [],
   "source": []
  },
  {
   "cell_type": "code",
   "execution_count": null,
   "metadata": {},
   "outputs": [],
   "source": []
  },
  {
   "cell_type": "code",
   "execution_count": null,
   "metadata": {},
   "outputs": [],
   "source": []
  },
  {
   "cell_type": "code",
   "execution_count": null,
   "metadata": {},
   "outputs": [],
   "source": []
  },
  {
   "cell_type": "code",
   "execution_count": null,
   "metadata": {},
   "outputs": [],
   "source": []
  },
  {
   "cell_type": "code",
   "execution_count": null,
   "metadata": {},
   "outputs": [],
   "source": []
  },
  {
   "cell_type": "code",
   "execution_count": null,
   "metadata": {},
   "outputs": [],
   "source": []
  },
  {
   "cell_type": "code",
   "execution_count": null,
   "metadata": {},
   "outputs": [],
   "source": []
  },
  {
   "cell_type": "code",
   "execution_count": null,
   "metadata": {},
   "outputs": [],
   "source": []
  },
  {
   "cell_type": "code",
   "execution_count": null,
   "metadata": {},
   "outputs": [],
   "source": []
  },
  {
   "cell_type": "code",
   "execution_count": null,
   "metadata": {},
   "outputs": [],
   "source": []
  },
  {
   "cell_type": "code",
   "execution_count": null,
   "metadata": {},
   "outputs": [],
   "source": []
  },
  {
   "cell_type": "code",
   "execution_count": null,
   "metadata": {},
   "outputs": [],
   "source": []
  },
  {
   "cell_type": "code",
   "execution_count": null,
   "metadata": {},
   "outputs": [],
   "source": []
  },
  {
   "cell_type": "code",
   "execution_count": null,
   "metadata": {
    "scrolled": true
   },
   "outputs": [],
   "source": []
  },
  {
   "cell_type": "code",
   "execution_count": null,
   "metadata": {},
   "outputs": [],
   "source": []
  },
  {
   "cell_type": "code",
   "execution_count": null,
   "metadata": {},
   "outputs": [],
   "source": []
  },
  {
   "cell_type": "code",
   "execution_count": null,
   "metadata": {},
   "outputs": [],
   "source": []
  },
  {
   "cell_type": "code",
   "execution_count": null,
   "metadata": {},
   "outputs": [],
   "source": []
  },
  {
   "cell_type": "code",
   "execution_count": null,
   "metadata": {},
   "outputs": [],
   "source": []
  },
  {
   "cell_type": "code",
   "execution_count": null,
   "metadata": {},
   "outputs": [],
   "source": []
  },
  {
   "cell_type": "code",
   "execution_count": null,
   "metadata": {},
   "outputs": [],
   "source": []
  }
 ],
 "metadata": {
  "kernelspec": {
   "display_name": "Python 3",
   "language": "python",
   "name": "python3"
  },
  "language_info": {
   "codemirror_mode": {
    "name": "ipython",
    "version": 3
   },
   "file_extension": ".py",
   "mimetype": "text/x-python",
   "name": "python",
   "nbconvert_exporter": "python",
   "pygments_lexer": "ipython3",
   "version": "3.7.3"
  }
 },
 "nbformat": 4,
 "nbformat_minor": 2
}

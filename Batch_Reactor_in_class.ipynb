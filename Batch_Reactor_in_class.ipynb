{
 "cells": [
  {
   "cell_type": "markdown",
   "metadata": {},
   "source": [
    "Initialize. Call the commandoes:"
   ]
  },
  {
   "cell_type": "code",
   "execution_count": 12,
   "metadata": {},
   "outputs": [],
   "source": [
    "# Initialization\n",
    "import matplotlib.pyplot as plt\n",
    "import numpy as np\n",
    "import pandas as pd\n",
    "from scipy.integrate import fixed_quad\n",
    "from scipy import integrate\n",
    "from scipy.integrate import quad\n",
    "from scipy.integrate import odeint\n",
    "from sympy.solvers import solve\n",
    "from sympy import Symbol\n",
    "import math\n",
    "from math import exp, expm1\n",
    "from dataclasses import dataclass\n",
    "from scipy.integrate import simps\n",
    "from ipykernel import kernelapp\n",
    "from scipy.integrate import dblquad\n",
    "import numpy as np"
   ]
  },
  {
   "cell_type": "code",
   "execution_count": 13,
   "metadata": {},
   "outputs": [],
   "source": [
    "# Define constants and reaction\n",
    "Name = [\"A\", \"B\"]\n",
    "Concentration_initial = [0.07174, 0]\n",
    "Coefficient = [1, -2]\n",
    "Order = np.abs(Coefficient)\n",
    "Rate_constant_forward = 0.5\n",
    "Rate_constant_reverse = 0.5/0.1\n",
    "Reversible = True "
   ]
  },
  {
   "cell_type": "code",
   "execution_count": 19,
   "metadata": {},
   "outputs": [
    {
     "data": {
      "image/png": "[encoded data removed]",
      "text/plain": [
       "<Figure size 432x288 with 1 Axes>"
      ]
     },
     "metadata": {
      "needs_background": "light"
     },
     "output_type": "display_data"
    }
   ],
   "source": [
    "# Define the class of the reaction \n",
    "class reaction:\n",
    "    def __init__(self, Name, Coefficient, Concentration_initial, Order, \n",
    "Rate_constant_forward, Rate_constant_reverse, Reversible = True):\n",
    "        self.Name = Name \n",
    "        self.Coefficient = Coefficient  \n",
    "        self.Concentration_initial = Concentration_initial\n",
    "        self.Order = Order \n",
    "        self.Reversible = Reversible\n",
    "        self.Rate_constant_forward = Rate_constant_forward\n",
    "        self.Rate_constant_reverse = Rate_constant_reverse\n",
    "        self.t_start = 0\n",
    "        self.t_end = 100 \n",
    "        self.steps = (self.t_end - self.t_start)*24\n",
    "# Define the function  \n",
    "    def reaction_function (self, C, t):\n",
    "# Find the coefficients of reactants and products:\n",
    "        coef_reactants = list(filter(lambda Coefficient: Coefficient >0, Coefficient))\n",
    "        coef_products = list(filter(lambda Coefficient: Coefficient <0, Coefficient))\n",
    "\n",
    "# Find the rate for the reversible     \n",
    "        if self.Reversible == True:\n",
    "            r_for = 1;\n",
    "            r_reverse = 1;\n",
    "            self.KC = self.Rate_constant_forward/self.Rate_constant_reverse\n",
    "            n = len(Coefficient);\n",
    "            r = np.zeros((n,1));\n",
    "            \n",
    "            for i in range(0,len(coef_reactants)): \n",
    "                r_f = C[i]**Order[i]\n",
    "                r_for = r_f*r_for \n",
    "            \n",
    "            for i in range(len(coef_reactants),len(Coefficient)):\n",
    "                r_r = C[i]**Order[i]\n",
    "                r_reverse = r_r*r_reverse\n",
    "            \n",
    "            rate = self.Rate_constant_forward*(r_for - r_reverse/self.KC)\n",
    "            r[0,0] = rate;\n",
    "            dCdt = [];\n",
    "            for i in range(0,len(Coefficient)):\n",
    "                r[i,0] = r[0]/self.Coefficient[i]\n",
    "                dCdt.append(-r[i,0])\n",
    "\n",
    "        if self.Reversible == False:\n",
    "            rate_for = 1;\n",
    "            n = len(Coefficient);\n",
    "            r = np.zeros((n,1));\n",
    "            for i in range(len(coef_reactants)): \n",
    "                r = C[i]**Order[i]\n",
    "                rate_for = r*rate_for\n",
    "            rate = self.Rate_constant_forward*rate_for\n",
    "            r[0] = rate;\n",
    "            dCdt = [];\n",
    "            for i in range(len(Coefficient)):\n",
    "                r[i] = -r[0]/self.Coefficient[i]\n",
    "                dCdt.append(r[i])\n",
    "        \n",
    "        return (dCdt)\n",
    "    \n",
    "    def solve(self):\n",
    "        t = np.linspace(self.t_start, self.t_end, self.steps)\n",
    "        C = odeint(self.reaction_function, self.Concentration_initial ,t)\n",
    "        return t, C\n",
    "\n",
    "reaction = reaction(Name, Coefficient, Concentration_initial, Order, \n",
    "                    Rate_constant_forward, Rate_constant_reverse, Reversible = True)\n",
    "reaction.solve()\n",
    "\n",
    "plt.plot(reaction.solve()[0],reaction.solve()[1])\n",
    "plt.show()"
   ]
  },
  {
   "cell_type": "code",
   "execution_count": null,
   "metadata": {},
   "outputs": [],
   "source": []
  },
  {
   "cell_type": "code",
   "execution_count": null,
   "metadata": {},
   "outputs": [],
   "source": []
  },
  {
   "cell_type": "code",
   "execution_count": null,
   "metadata": {},
   "outputs": [],
   "source": []
  }
 ],
 "metadata": {
  "kernelspec": {
   "display_name": "Python 3",
   "language": "python",
   "name": "python3"
  },
  "language_info": {
   "codemirror_mode": {
    "name": "ipython",
    "version": 3
   },
   "file_extension": ".py",
   "mimetype": "text/x-python",
   "name": "python",
   "nbconvert_exporter": "python",
   "pygments_lexer": "ipython3",
   "version": "3.7.3"
  }
 },
 "nbformat": 4,
 "nbformat_minor": 2
}
